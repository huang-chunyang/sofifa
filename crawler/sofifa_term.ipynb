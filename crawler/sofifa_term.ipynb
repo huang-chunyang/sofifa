{
 "cells": [
  {
   "cell_type": "code",
   "execution_count": 86,
   "id": "d6467726",
   "metadata": {},
   "outputs": [],
   "source": [
    "import requests\n",
    "from bs4 import BeautifulSoup\n",
    "import pandas as pd\n",
    "import re\n",
    "import time\n",
    "from tqdm import tqdm\n",
    "import random\n",
    "import numpy as np\n"
   ]
  },
  {
   "cell_type": "code",
   "execution_count": 87,
   "id": "2a78fb08",
   "metadata": {},
   "outputs": [
    {
     "name": "stdout",
     "output_type": "stream",
     "text": [
      "value ['Brad Tapp', 49, 57, 100000.0] 100000.0\n"
     ]
    }
   ],
   "source": [
    "athlete_link = \"https://sofifa.com/player/268416/brad-tapp/220054\"\n",
    "\n",
    "\n",
    "# 爬取运动员页面的姓名和前四项'overall_rating', 'potential', 'value', 'wage'\n",
    "# 数据准备\n",
    "athlete_data = requests.get(athlete_link)\n",
    "athlete_soup = BeautifulSoup(athlete_data.text)\n",
    "name_list = [\"name\", \"overall_rating\", \"potential\", \"value\", \"wage\", \"Crossing\", \"Finishing\", \"Heading_Accuracy\", \"Short_Passing\", \"Volleys\", \"Dribbling\", \"Curve\", \"FK_Accuracy\", \"Long_Passing\", \"Ball_Control\", \"Acceleration\", \"Sprint_Speed\", \"Agility\", \"Reactions\", \"Balance\", \"Shot_Power\", \"Jumping\", \"Stamina\", \"Strength\", \"Long_Shots\", \"Aggression\", \"Interceptions\", \"Positioning\", \"Vision\", \"Penalties\", \"Composure\", \"Defensive_Awareness\", \"Standing_Tackle\", \"Sliding_Tackle\", \"GK_Diving\", \"GK_Handling\", \"GK_Kicking\", \"GK_Positioning\", \"GK_Reflexes\"]\n",
    "len_name_list = len(name_list)\n",
    "data_list = []\n",
    "i = 0\n",
    "\n",
    "# 姓名\n",
    "athlete_name = athlete_soup.select(\"#body > div:nth-child(5) > div > div.col.col-12 > div.bp3-card.player > div > h1\")\n",
    "athlete_name = str(athlete_name[0])\n",
    "name_re = re.match(\".+>(.+)<\", athlete_name)\n",
    "name = name_re.group(1)\n",
    "data_list.append(name)\n",
    "i += 1\n",
    "\n",
    "# overall rating \n",
    "overall_rating = athlete_soup.select(\"#body > div:nth-child(5) > div > div.col.col-12 > div.bp3-card.player > section > div:nth-child(1) > div > span\")\n",
    "overall_rating_data = overall_rating[0].string\n",
    "data_list.append(int(overall_rating_data))\n",
    "i += 1\n",
    "\n",
    "# potential\n",
    "potential = athlete_soup.select(\"#body > div:nth-child(5) > div > div.col.col-12 > div.bp3-card.player > section > div:nth-child(2) > div > span\")\n",
    "potential_data = potential[0].string\n",
    "potential_data\n",
    "data_list.append(int(potential_data))\n",
    "i += 1\n",
    "\n",
    "#Value\n",
    "value = athlete_soup.select(\"#body > div:nth-child(5) > div > div.col.col-12 > div.bp3-card.player > section > div:nth-child(3) > div\")\n",
    "value_data = str(value[0])\n",
    "value_re = re.findall(\"(\\d+\\.?\\d*)([MK])\", value_data)\n",
    "if value_re:\n",
    "    value_num = value_re[0][0]\n",
    "    value_unit = value_re[0][1]\n",
    "    if value_unit == \"M\":\n",
    "        value = (float(value_num)*10**6)\n",
    "    elif value_unit == \"K\":\n",
    "        value = (float(value_num)*10**3)\n",
    "    elif value_unit == \"\":\n",
    "        value = (float(value_num))\n",
    "    else:\n",
    "        print(\"clawer value failed.\")\n",
    "    data_list.append(value)\n",
    "    print(\"value\", data_list, value)\n",
    "else:\n",
    "    # print('regular match value failed:', value_data)\n",
    "    data_list[i] = 0\n",
    "\n",
    "i += 1\n",
    "\n",
    "# # Wage\n",
    "# wage = athlete_soup.select(\"#body > div:nth-child(5) > div > div.col.col-12 > div.bp3-card.player > section > div:nth-child(4)\")\n",
    "# wage_data = str(wage[0])\n",
    "# wage_re = re.findall(\"(\\d+\\.?\\d*)([MK]?)\", wage_data)\n",
    "# if wage_re:\n",
    "#     wage_num = wage_re[0][0]\n",
    "#     wage_unit = wage_re[0][1]\n",
    "#     if wage_unit == \"M\":\n",
    "#         data_list.append(float(wage_num)*10**6)\n",
    "#     elif wage_unit == \"K\":\n",
    "#         data_list.append(float(wage_num)*10**3)\n",
    "#     elif wage_unit == \"\":\n",
    "#         data_list.append(float(wage_num))\n",
    "#     else:\n",
    "#         print(\"clawer wage failed\")\n",
    "#     print(\"wage_result\", data_list[i])\n",
    "# else:\n",
    "#     # print('regular match wage failed:', wage_data)\n",
    "#     data_list[i] = 0\n",
    "# i += 1\n",
    "\n",
    "# # ATTACKING\n",
    "# for j in range(5):\n",
    "#     ATTACKING = athlete_soup.select(\"#body > div:nth-child(6) > div > div.col.col-12 > div:nth-child(3) > div > ul > li:nth-child({line})\".format(line=j + 1))\n",
    "#     ATTACKING_data = re.match(\".+>(\\d+)<\", str(ATTACKING[0])).group(1)\n",
    "#     data_list.append(int(ATTACKING_data))\n",
    "#     i += 1\n",
    "\n",
    "# ## SKILL\n",
    "# for j in range(5):\n",
    "#     # 1 - Dribbling\n",
    "#     SKILL = athlete_soup.select(\"#body > div:nth-child(6) > div > div.col.col-12 > div:nth-child(4) > div > ul > li:nth-child({line})\".format(line=j + 1))\n",
    "#     SKILL_data = re.match(\".+>(\\d+)<\", str(SKILL[0])).group(1)\n",
    "#     data_list.append(int(SKILL_data))\n",
    "#     i += 1\n",
    "\n",
    "# # MOVEMENT\n",
    "# for j in range(5):\n",
    "#     MOVEMENT = athlete_soup.select(\"#body > div:nth-child(6) > div > div.col.col-12 > div:nth-child(5) > div > ul > li:nth-child({line})\".format(line=j + 1))\n",
    "#     MOVEMENT_data = re.match(\".+>(\\d+)<\", str(MOVEMENT[0])).group(1)\n",
    "#     data_list.append(int(MOVEMENT_data))\n",
    "#     i += 1\n",
    "\n",
    "# # POWER\n",
    "# for j in range(5):\n",
    "#     POWER = athlete_soup.select(\"#body > div:nth-child(6) > div > div.col.col-12 > div:nth-child(6) > div > ul > li:nth-child({line})\".format(line=j + 1))\n",
    "#     POWER_data = re.match(\".+>(\\d+)<\", str(POWER[0])).group(1)\n",
    "#     data_list.append(int(POWER_data))\n",
    "#     i += 1\n",
    "\n",
    "# # MENTALITY\n",
    "# for j in range(6):\n",
    "#     MENTALITY = athlete_soup.select(\"#body > div:nth-child(6) > div > div.col.col-12 > div:nth-child(7) > div > ul > li:nth-child({line})\".format(line=j + 1))\n",
    "#     MENTALITY_data = re.match(\".+>(\\d+)<\", str(MENTALITY[0])).group(1)\n",
    "#     data_list.append(int(MENTALITY_data))\n",
    "#     i += 1\n",
    "\n",
    "# # DEFENDING\n",
    "# for j in range(3):\n",
    "#     DEFENDING = athlete_soup.select(\"#body > div:nth-child(6) > div > div.col.col-12 > div:nth-child(8) > div > ul > li:nth-child({line})\".format(line=j + 1))\n",
    "#     DEFENDING_data = re.match(\".+>(\\d+)<\", str(DEFENDING[0])).group(1)\n",
    "#     data_list.append(int(DEFENDING_data))\n",
    "#     i += 1\n",
    "\n",
    "# # GOALKEEPING\n",
    "# for j in range(5):\n",
    "#     GOALKEEPING = athlete_soup.select(\"#body > div:nth-child(6) > div > div.col.col-12 > div:nth-child(9) > div > ul > li:nth-child({line})\".format(line=j + 1))\n",
    "#     GOALKEEPING_data = re.match(\".+>(\\d+)<\", str(GOALKEEPING[0])).group(1)\n",
    "#     data_list.append(int(GOALKEEPING_data))\n",
    "#     i += 1\n",
    "\n"
   ]
  },
  {
   "cell_type": "markdown",
   "id": "156b6013",
   "metadata": {},
   "source": [
    "开始爬取运动员页面，例如，https://sofifa.com/player/268421/mathys-tel/230005/"
   ]
  },
  {
   "cell_type": "code",
   "execution_count": 88,
   "id": "3c8f14e9",
   "metadata": {},
   "outputs": [
    {
     "data": {
      "text/plain": [
       "100000.0"
      ]
     },
     "execution_count": 88,
     "metadata": {},
     "output_type": "execute_result"
    }
   ],
   "source": [
    "float(value_num)*10**3"
   ]
  },
  {
   "cell_type": "code",
   "execution_count": 89,
   "id": "3e889386",
   "metadata": {},
   "outputs": [
    {
     "data": {
      "text/plain": [
       "[100000000.0, 1, 2]"
      ]
     },
     "execution_count": 89,
     "metadata": {},
     "output_type": "execute_result"
    }
   ],
   "source": [
    "float(value_num)*10**3\n",
    "list = [l for l in range(3)]\n",
    "list[0] = float(value_num)*10**6\n",
    "list"
   ]
  },
  {
   "cell_type": "code",
   "execution_count": 90,
   "id": "94e0350f",
   "metadata": {},
   "outputs": [
    {
     "data": {
      "text/plain": [
       "100000000.0"
      ]
     },
     "execution_count": 90,
     "metadata": {},
     "output_type": "execute_result"
    }
   ],
   "source": [
    "list = [l for l in range(len_name_list)]\n",
    "list[1] = \"A\"\n",
    "list[20] = float(value_num)*10**6\n",
    "list[20]"
   ]
  }
 ],
 "metadata": {
  "kernelspec": {
   "display_name": "Python 3.8.8 ('base')",
   "language": "python",
   "name": "python3"
  },
  "language_info": {
   "codemirror_mode": {
    "name": "ipython",
    "version": 3
   },
   "file_extension": ".py",
   "mimetype": "text/x-python",
   "name": "python",
   "nbconvert_exporter": "python",
   "pygments_lexer": "ipython3",
   "version": "3.8.8"
  },
  "vscode": {
   "interpreter": {
    "hash": "3b6d5b87a7f66fd342792060d1484a61d0f1b5d1b520616f5a1f779c6e9c2878"
   }
  }
 },
 "nbformat": 4,
 "nbformat_minor": 5
}
