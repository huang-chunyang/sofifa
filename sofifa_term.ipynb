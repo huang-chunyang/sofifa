{
 "cells": [
  {
   "cell_type": "code",
   "execution_count": 32,
   "id": "d6467726",
   "metadata": {},
   "outputs": [],
   "source": [
    "import requests\n",
    "from bs4 import BeautifulSoup\n",
    "import pandas as pd\n",
    "import re\n",
    "import time\n",
    "from tqdm import tqdm\n",
    "import random\n"
   ]
  },
  {
   "cell_type": "code",
   "execution_count": 39,
   "id": "2a78fb08",
   "metadata": {},
   "outputs": [
    {
     "name": "stdout",
     "output_type": "stream",
     "text": [
      "wage_data <div class=\"block-quarter\"><div>€500<div class=\"sub\">Wage</div></div></div>\n",
      "wage_result 500.0\n"
     ]
    }
   ],
   "source": [
    "athlete_link = \"https://sofifa.com/player/265595/samuele-vignato/220069/\"\n",
    "\n",
    "\n",
    "# 爬取运动员页面的姓名和前四项'overall_rating', 'potential', 'value', 'wage'\n",
    "# 数据准备\n",
    "athlete_data = requests.get(athlete_link)\n",
    "athlete_soup = BeautifulSoup(athlete_data.text)\n",
    "name_list = [\"name\", \"overall_rating\", \"potential\", \"value\", \"wage\", \"Crossing\", \"Finishing\", \"Heading_Accuracy\", \"Short_Passing\", \"Volleys\", \"Dribbling\", \"Curve\", \"FK_Accuracy\", \"Long_Passing\", \"Ball_Control\", \"Acceleration\", \"Sprint_Speed\", \"Agility\", \"Reactions\", \"Balance\", \"Shot_Power\", \"Jumping\", \"Stamina\", \"Strength\", \"Long_Shots\", \"Aggression\", \"Interceptions\", \"Positioning\", \"Vision\", \"Penalties\", \"Composure\", \"Defensive_Awareness\", \"Standing_Tackle\", \"Sliding_Tackle\", \"GK_Diving\", \"GK_Handling\", \"GK_Kicking\", \"GK_Positioning\", \"GK_Reflexes\"]\n",
    "data_list = list(range(len(name_list)))\n",
    "i = 0\n",
    "\n",
    "# 姓名\n",
    "athlete_name = athlete_soup.select(\"#body > div:nth-child(5) > div > div.col.col-12 > div.bp3-card.player > div > h1\")\n",
    "athlete_name = str(athlete_name[0])\n",
    "name_re = re.match(\".+>(.+)<\", athlete_name)\n",
    "name = name_re.group(1)\n",
    "data_list[i] = name\n",
    "i += 1\n",
    "\n",
    "# overall rating \n",
    "overall_rating = athlete_soup.select(\"#body > div:nth-child(5) > div > div.col.col-12 > div.bp3-card.player > section > div:nth-child(1) > div > span\")\n",
    "overall_rating_data = overall_rating[0].string\n",
    "data_list[i] = int(overall_rating_data)\n",
    "i += 1\n",
    "\n",
    "# potential\n",
    "potential = athlete_soup.select(\"#body > div:nth-child(5) > div > div.col.col-12 > div.bp3-card.player > section > div:nth-child(2) > div > span\")\n",
    "potential_data = potential[0].string\n",
    "potential_data\n",
    "data_list[i] = int(potential_data)\n",
    "i += 1\n",
    "\n",
    "#Value\n",
    "value = athlete_soup.select(\"#body > div:nth-child(5) > div > div.col.col-12 > div.bp3-card.player > section > div:nth-child(3) > div\")\n",
    "value_data = str(value[0])\n",
    "value_re = re.findall(\"(\\d+\\.?\\d*)([MK])\", value_data)\n",
    "if value_re:\n",
    "    value_num = value_re[0][0]\n",
    "    value_unit = value_re[0][1]\n",
    "    if value_unit == \"M\":\n",
    "        data_list[i] = (float(value_num)*10**6)\n",
    "    elif value_unit == \"K\":\n",
    "        data_list[i] = (float(value_num*10**3))\n",
    "    elif value_unit == \"\":\n",
    "        data_list[i] = float(value_num)\n",
    "    else:\n",
    "        print(\"clawer value failed.\")\n",
    "else:\n",
    "    # print('regular match value failed:', value_data)\n",
    "    data_list[i] = 0\n",
    "i += 1\n",
    "\n",
    "# Wage\n",
    "wage = athlete_soup.select(\"#body > div:nth-child(5) > div > div.col.col-12 > div.bp3-card.player > section > div:nth-child(4)\")\n",
    "wage_data = str(wage[0])\n",
    "wage_re = re.findall(\"(\\d+\\.?\\d*)([MK]?)\", wage_data)\n",
    "print(\"wage_data\", wage_data)\n",
    "if wage_re:\n",
    "    wage_num = wage_re[0][0]\n",
    "    wage_unit = wage_re[0][1]\n",
    "    if wage_unit == \"M\":\n",
    "        data_list[i] = (float(wage_num)*10**6)\n",
    "    elif wage_unit == \"K\":\n",
    "        data_list[i] = (float(wage_num)*10**3)\n",
    "    elif wage_unit == \"\":\n",
    "        data_list[i] = float(wage_num)\n",
    "    else:\n",
    "        print(\"clawer wage failed\")\n",
    "    print(\"wage_result\", data_list[i])\n",
    "else:\n",
    "    # print('regular match wage failed:', wage_data)\n",
    "    data_list[i] = 0\n",
    "i += 1\n",
    "\n",
    "# ATTACKING\n",
    "for j in range(5):\n",
    "    ATTACKING = athlete_soup.select(\"#body > div:nth-child(6) > div > div.col.col-12 > div:nth-child(3) > div > ul > li:nth-child({line})\".format(line=j + 1))\n",
    "    ATTACKING_data = re.match(\".+>(\\d+)<\", str(ATTACKING[0])).group(1)\n",
    "    data_list[i] = int(ATTACKING_data)\n",
    "    i += 1\n",
    "\n",
    "## SKILL\n",
    "for j in range(5):\n",
    "    # 1 - Dribbling\n",
    "    SKILL = athlete_soup.select(\"#body > div:nth-child(6) > div > div.col.col-12 > div:nth-child(4) > div > ul > li:nth-child({line})\".format(line=j + 1))\n",
    "    SKILL_data = re.match(\".+>(\\d+)<\", str(SKILL[0])).group(1)\n",
    "    data_list[i] = int(SKILL_data)\n",
    "    i += 1\n",
    "\n",
    "# MOVEMENT\n",
    "for j in range(5):\n",
    "    MOVEMENT = athlete_soup.select(\"#body > div:nth-child(6) > div > div.col.col-12 > div:nth-child(5) > div > ul > li:nth-child({line})\".format(line=j + 1))\n",
    "    MOVEMENT_data = re.match(\".+>(\\d+)<\", str(MOVEMENT[0])).group(1)\n",
    "    data_list[i] = int(MOVEMENT_data)\n",
    "    i += 1\n",
    "\n",
    "# POWER\n",
    "for j in range(5):\n",
    "    POWER = athlete_soup.select(\"#body > div:nth-child(6) > div > div.col.col-12 > div:nth-child(6) > div > ul > li:nth-child({line})\".format(line=j + 1))\n",
    "    POWER_data = re.match(\".+>(\\d+)<\", str(POWER[0])).group(1)\n",
    "    data_list[i] = int(POWER_data)\n",
    "    i += 1\n",
    "\n",
    "# MENTALITY\n",
    "for j in range(6):\n",
    "    MENTALITY = athlete_soup.select(\"#body > div:nth-child(6) > div > div.col.col-12 > div:nth-child(7) > div > ul > li:nth-child({line})\".format(line=j + 1))\n",
    "    MENTALITY_data = re.match(\".+>(\\d+)<\", str(MENTALITY[0])).group(1)\n",
    "    data_list[i] = int(MENTALITY_data)\n",
    "    i += 1\n",
    "\n",
    "# DEFENDING\n",
    "for j in range(3):\n",
    "    DEFENDING = athlete_soup.select(\"#body > div:nth-child(6) > div > div.col.col-12 > div:nth-child(8) > div > ul > li:nth-child({line})\".format(line=j + 1))\n",
    "    DEFENDING_data = re.match(\".+>(\\d+)<\", str(DEFENDING[0])).group(1)\n",
    "    data_list[i] = int(DEFENDING_data)\n",
    "    i += 1\n",
    "\n",
    "# GOALKEEPING\n",
    "for j in range(5):\n",
    "    GOALKEEPING = athlete_soup.select(\"#body > div:nth-child(6) > div > div.col.col-12 > div:nth-child(9) > div > ul > li:nth-child({line})\".format(line=j + 1))\n",
    "    GOALKEEPING_data = re.match(\".+>(\\d+)<\", str(GOALKEEPING[0])).group(1)\n",
    "    data_list[i] = int(GOALKEEPING_data)\n",
    "    i += 1\n",
    "\n"
   ]
  },
  {
   "cell_type": "markdown",
   "id": "156b6013",
   "metadata": {},
   "source": [
    "开始爬取运动员页面，例如，https://sofifa.com/player/268421/mathys-tel/230005/"
   ]
  },
  {
   "cell_type": "code",
   "execution_count": 40,
   "id": "3c8f14e9",
   "metadata": {},
   "outputs": [
    {
     "data": {
      "text/plain": [
       "['Samuele Vignato',\n",
       " 64,\n",
       " 83,\n",
       " 1500000.0,\n",
       " 500.0,\n",
       " 51,\n",
       " 61,\n",
       " 36,\n",
       " 64,\n",
       " 57,\n",
       " 71,\n",
       " 51,\n",
       " 49,\n",
       " 61,\n",
       " 70,\n",
       " 73,\n",
       " 64,\n",
       " 84,\n",
       " 66,\n",
       " 90,\n",
       " 54,\n",
       " 57,\n",
       " 63,\n",
       " 33,\n",
       " 56,\n",
       " 37,\n",
       " 33,\n",
       " 60,\n",
       " 64,\n",
       " 49,\n",
       " 54,\n",
       " 38,\n",
       " 30,\n",
       " 34,\n",
       " 14,\n",
       " 12,\n",
       " 5,\n",
       " 9,\n",
       " 8]"
      ]
     },
     "execution_count": 40,
     "metadata": {},
     "output_type": "execute_result"
    }
   ],
   "source": [
    "data_list"
   ]
  },
  {
   "cell_type": "code",
   "execution_count": 35,
   "id": "2ce223e1",
   "metadata": {},
   "outputs": [
    {
     "ename": "NameError",
     "evalue": "name 'data_4' is not defined",
     "output_type": "error",
     "traceback": [
      "\u001b[0;31m---------------------------------------------------------------------------\u001b[0m",
      "\u001b[0;31mNameError\u001b[0m                                 Traceback (most recent call last)",
      "\u001b[0;32m<ipython-input-35-4680717daa59>\u001b[0m in \u001b[0;36m<module>\u001b[0;34m\u001b[0m\n\u001b[0;32m----> 1\u001b[0;31m \u001b[0mframe_data_4\u001b[0m \u001b[0;34m=\u001b[0m \u001b[0mpd\u001b[0m\u001b[0;34m.\u001b[0m\u001b[0mDataFrame\u001b[0m\u001b[0;34m(\u001b[0m\u001b[0mdata_4\u001b[0m\u001b[0;34m,\u001b[0m \u001b[0mcolumns\u001b[0m\u001b[0;34m=\u001b[0m\u001b[0mname_list\u001b[0m\u001b[0;34m)\u001b[0m\u001b[0;34m\u001b[0m\u001b[0;34m\u001b[0m\u001b[0m\n\u001b[0m\u001b[1;32m      2\u001b[0m \u001b[0mframe_data_4\u001b[0m\u001b[0;34m.\u001b[0m\u001b[0mto_csv\u001b[0m\u001b[0;34m(\u001b[0m\u001b[0;34m\"./data_4/50pages.csv\"\u001b[0m\u001b[0;34m)\u001b[0m\u001b[0;34m\u001b[0m\u001b[0;34m\u001b[0m\u001b[0m\n",
      "\u001b[0;31mNameError\u001b[0m: name 'data_4' is not defined"
     ]
    }
   ],
   "source": [
    "frame_data_4 = pd.DataFrame(data_4, columns=name_list)\n",
    "frame_data_4.to_csv(\"./data_4/50pages.csv\")"
   ]
  },
  {
   "cell_type": "code",
   "execution_count": 37,
   "id": "c74b4df3",
   "metadata": {},
   "outputs": [],
   "source": [
    "wage_re = re.findall(\"(\\d+\\.?\\d*)([MK]?)\", wage_data)"
   ]
  },
  {
   "cell_type": "code",
   "execution_count": 38,
   "id": "d2817208",
   "metadata": {},
   "outputs": [
    {
     "data": {
      "text/plain": [
       "[('500', '')]"
      ]
     },
     "execution_count": 38,
     "metadata": {},
     "output_type": "execute_result"
    }
   ],
   "source": []
  },
  {
   "cell_type": "code",
   "execution_count": null,
   "id": "3e889386",
   "metadata": {},
   "outputs": [],
   "source": []
  }
 ],
 "metadata": {
  "kernelspec": {
   "display_name": "Python 3.8.8 ('base')",
   "language": "python",
   "name": "python3"
  },
  "language_info": {
   "codemirror_mode": {
    "name": "ipython",
    "version": 3
   },
   "file_extension": ".py",
   "mimetype": "text/x-python",
   "name": "python",
   "nbconvert_exporter": "python",
   "pygments_lexer": "ipython3",
   "version": "3.8.8"
  },
  "vscode": {
   "interpreter": {
    "hash": "3b6d5b87a7f66fd342792060d1484a61d0f1b5d1b520616f5a1f779c6e9c2878"
   }
  }
 },
 "nbformat": 4,
 "nbformat_minor": 5
}
