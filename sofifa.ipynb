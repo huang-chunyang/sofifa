{
 "cells": [
  {
   "cell_type": "code",
   "execution_count": 17,
   "id": "d6467726",
   "metadata": {},
   "outputs": [],
   "source": [
    "import requests\n",
    "from bs4 import BeautifulSoup\n",
    "import pandas as pd"
   ]
  },
  {
   "cell_type": "code",
   "execution_count": 2,
   "id": "2a78fb08",
   "metadata": {},
   "outputs": [],
   "source": [
    "standing_url = \"https://sofifa.com/\""
   ]
  },
  {
   "cell_type": "code",
   "execution_count": 3,
   "id": "7dacbaea",
   "metadata": {},
   "outputs": [],
   "source": [
    "links_data = requests.get(standing_url)"
   ]
  },
  {
   "cell_type": "code",
   "execution_count": 4,
   "id": "6002fc0b",
   "metadata": {},
   "outputs": [],
   "source": [
    "links_soup = BeautifulSoup(links_data.text)"
   ]
  },
  {
   "cell_type": "code",
   "execution_count": 5,
   "id": "35cc4632",
   "metadata": {},
   "outputs": [],
   "source": [
    "select_tbody = links_soup.select(\"body > div.center > div > div.col.col-12 > div > table > tbody\")[0]"
   ]
  },
  {
   "cell_type": "code",
   "execution_count": 6,
   "id": "172871c2",
   "metadata": {},
   "outputs": [],
   "source": [
    "athlete_links_a_unselected = select_tbody.find_all(\"a\")"
   ]
  },
  {
   "cell_type": "code",
   "execution_count": 7,
   "id": "0984f05f",
   "metadata": {},
   "outputs": [],
   "source": [
    "# 利用if 选择运动员link，获得60个运动员的数据链接\n",
    "athlete_links = [\"https://sofifa.com\" + link_a.get(\"href\") for link_a in athlete_links_a_unselected if link_a.get(\"data-tip-pos\") == \"top\"]"
   ]
  },
  {
   "cell_type": "code",
   "execution_count": 8,
   "id": "43f03fd0",
   "metadata": {},
   "outputs": [],
   "source": [
    "athlete_link = athlete_links[0]"
   ]
  },
  {
   "cell_type": "markdown",
   "id": "156b6013",
   "metadata": {},
   "source": [
    "开始爬取运动员页面，例如，https://sofifa.com/player/239981/jann-fiete-arp/230004/"
   ]
  },
  {
   "cell_type": "code",
   "execution_count": 9,
   "id": "3c8f14e9",
   "metadata": {},
   "outputs": [],
   "source": [
    "athlete_data = requests.get(athlete_link)"
   ]
  },
  {
   "cell_type": "code",
   "execution_count": 11,
   "id": "a75b41f9",
   "metadata": {},
   "outputs": [],
   "source": [
    "athlete_soup = BeautifulSoup(athlete_data.text)"
   ]
  },
  {
   "cell_type": "code",
   "execution_count": 38,
   "id": "4cdff658",
   "metadata": {},
   "outputs": [],
   "source": [
    "scoal_value_data = athlete_soup.select(\"body > div:nth-child(5) > div > div.col.col-12 > div.bp3-card.player > section\")[0].find_all(\"div\", {\"class\": \"block-quarter\"})"
   ]
  },
  {
   "cell_type": "code",
   "execution_count": 40,
   "id": "ef6e8af9",
   "metadata": {},
   "outputs": [
    {
     "data": {
      "text/plain": [
       "[<div class=\"block-quarter\"><div><span class=\"bp3-tag p p-66\">66</span> <div class=\"sub\">Overall Rating</div></div></div>,\n",
       " <div class=\"block-quarter\"><div><span class=\"bp3-tag p p-75\">75</span> <div class=\"sub\">Potential</div></div></div>,\n",
       " <div class=\"block-quarter\"><div>€1.9M<div class=\"sub\">Value</div></div></div>,\n",
       " <div class=\"block-quarter\"><div>€6K<div class=\"sub\">Wage</div></div></div>]"
      ]
     },
     "execution_count": 40,
     "metadata": {},
     "output_type": "execute_result"
    }
   ],
   "source": [
    "scoal_value_data"
   ]
  },
  {
   "cell_type": "code",
   "execution_count": 39,
   "id": "a2641c84",
   "metadata": {},
   "outputs": [
    {
     "data": {
      "text/plain": [
       "<div class=\"block-quarter\"><div><span class=\"bp3-tag p p-66\">66</span> <div class=\"sub\">Overall Rating</div></div></div>"
      ]
     },
     "execution_count": 39,
     "metadata": {},
     "output_type": "execute_result"
    }
   ],
   "source": [
    "scoal_value_data[0]"
   ]
  },
  {
   "cell_type": "code",
   "execution_count": 20,
   "id": "fc7773aa",
   "metadata": {},
   "outputs": [
    {
     "data": {
      "text/html": [
       "<div>\n",
       "<style scoped>\n",
       "    .dataframe tbody tr th:only-of-type {\n",
       "        vertical-align: middle;\n",
       "    }\n",
       "\n",
       "    .dataframe tbody tr th {\n",
       "        vertical-align: top;\n",
       "    }\n",
       "\n",
       "    .dataframe thead th {\n",
       "        text-align: right;\n",
       "    }\n",
       "</style>\n",
       "<table border=\"1\" class=\"dataframe\">\n",
       "  <thead>\n",
       "    <tr style=\"text-align: right;\">\n",
       "      <th></th>\n",
       "      <th>Season</th>\n",
       "      <th>Team</th>\n",
       "      <th>Last Appearance</th>\n",
       "    </tr>\n",
       "  </thead>\n",
       "  <tbody>\n",
       "    <tr>\n",
       "      <th>0</th>\n",
       "      <td>2022/2023</td>\n",
       "      <td>Holstein Kiel</td>\n",
       "      <td>FIFA 23 Oct 7, 2022</td>\n",
       "    </tr>\n",
       "    <tr>\n",
       "      <th>1</th>\n",
       "      <td>2021/2022</td>\n",
       "      <td>Holstein Kiel</td>\n",
       "      <td>FIFA 22 Aug 18, 2022</td>\n",
       "    </tr>\n",
       "    <tr>\n",
       "      <th>2</th>\n",
       "      <td>2020/2021</td>\n",
       "      <td>FC Bayern München II</td>\n",
       "      <td>FIFA 21 Sep 25, 2021</td>\n",
       "    </tr>\n",
       "    <tr>\n",
       "      <th>3</th>\n",
       "      <td>2020/2021</td>\n",
       "      <td>FC Bayern München</td>\n",
       "      <td>FIFA 21 Aug 24, 2020</td>\n",
       "    </tr>\n",
       "    <tr>\n",
       "      <th>4</th>\n",
       "      <td>2019/2020</td>\n",
       "      <td>FC Bayern München</td>\n",
       "      <td>FIFA 20 Sep 23, 2020</td>\n",
       "    </tr>\n",
       "    <tr>\n",
       "      <th>5</th>\n",
       "      <td>2018/2019</td>\n",
       "      <td>Hamburger SV</td>\n",
       "      <td>FIFA 19 Sep 11, 2019</td>\n",
       "    </tr>\n",
       "    <tr>\n",
       "      <th>6</th>\n",
       "      <td>2017/2018</td>\n",
       "      <td>Hamburger SV</td>\n",
       "      <td>FIFA 18 Sep 12, 2018</td>\n",
       "    </tr>\n",
       "  </tbody>\n",
       "</table>\n",
       "</div>"
      ],
      "text/plain": [
       "      Season                  Team       Last Appearance\n",
       "0  2022/2023         Holstein Kiel   FIFA 23 Oct 7, 2022\n",
       "1  2021/2022         Holstein Kiel  FIFA 22 Aug 18, 2022\n",
       "2  2020/2021  FC Bayern München II  FIFA 21 Sep 25, 2021\n",
       "3  2020/2021     FC Bayern München  FIFA 21 Aug 24, 2020\n",
       "4  2019/2020     FC Bayern München  FIFA 20 Sep 23, 2020\n",
       "5  2018/2019          Hamburger SV  FIFA 19 Sep 11, 2019\n",
       "6  2017/2018          Hamburger SV  FIFA 18 Sep 12, 2018"
      ]
     },
     "execution_count": 20,
     "metadata": {},
     "output_type": "execute_result"
    }
   ],
   "source": []
  },
  {
   "cell_type": "code",
   "execution_count": null,
   "id": "5df2c3f9",
   "metadata": {},
   "outputs": [],
   "source": []
  }
 ],
 "metadata": {
  "kernelspec": {
   "display_name": "Python 3",
   "language": "python",
   "name": "python3"
  },
  "language_info": {
   "codemirror_mode": {
    "name": "ipython",
    "version": 3
   },
   "file_extension": ".py",
   "mimetype": "text/x-python",
   "name": "python",
   "nbconvert_exporter": "python",
   "pygments_lexer": "ipython3",
   "version": "3.8.8"
  }
 },
 "nbformat": 4,
 "nbformat_minor": 5
}
