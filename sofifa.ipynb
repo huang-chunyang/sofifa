{
 "cells": [
  {
   "cell_type": "code",
   "execution_count": 1,
   "id": "d6467726",
   "metadata": {},
   "outputs": [],
   "source": [
    "import requests\n",
    "from bs4 import BeautifulSoup"
   ]
  },
  {
   "cell_type": "code",
   "execution_count": 2,
   "id": "2a78fb08",
   "metadata": {},
   "outputs": [],
   "source": [
    "standing_url = \"https://sofifa.com/\""
   ]
  },
  {
   "cell_type": "code",
   "execution_count": 3,
   "id": "7dacbaea",
   "metadata": {},
   "outputs": [],
   "source": [
    "athlete_data = requests.get(standing_url)"
   ]
  },
  {
   "cell_type": "code",
   "execution_count": 4,
   "id": "6002fc0b",
   "metadata": {},
   "outputs": [],
   "source": [
    "athlete_soup = BeautifulSoup(athlete_data.text)"
   ]
  },
  {
   "cell_type": "code",
   "execution_count": 5,
   "id": "35cc4632",
   "metadata": {},
   "outputs": [],
   "source": [
    "select_tbody = athlete_soup.select(\"body > div.center > div > div.col.col-12 > div > table > tbody\")[0]"
   ]
  },
  {
   "cell_type": "code",
   "execution_count": 6,
   "id": "172871c2",
   "metadata": {},
   "outputs": [],
   "source": [
    "athlete_links_a_unselected = select_tbody.find_all(\"a\")"
   ]
  },
  {
   "cell_type": "code",
   "execution_count": 7,
   "id": "0984f05f",
   "metadata": {},
   "outputs": [],
   "source": [
    "athlete_links = [link_a.get(\"href\") for link_a in athlete_links_a_unselected if link_a.get(\"data-tip-pos\") == \"top\"]"
   ]
  },
  {
   "cell_type": "code",
   "execution_count": 8,
   "id": "43f03fd0",
   "metadata": {},
   "outputs": [
    {
     "data": {
      "text/plain": [
       "60"
      ]
     },
     "execution_count": 8,
     "metadata": {},
     "output_type": "execute_result"
    }
   ],
   "source": [
    "len(athlete_links)"
   ]
  },
  {
   "cell_type": "code",
   "execution_count": null,
   "id": "3c8f14e9",
   "metadata": {},
   "outputs": [],
   "source": []
  }
 ],
 "metadata": {
  "kernelspec": {
   "display_name": "Python 3",
   "language": "python",
   "name": "python3"
  },
  "language_info": {
   "codemirror_mode": {
    "name": "ipython",
    "version": 3
   },
   "file_extension": ".py",
   "mimetype": "text/x-python",
   "name": "python",
   "nbconvert_exporter": "python",
   "pygments_lexer": "ipython3",
   "version": "3.8.8"
  }
 },
 "nbformat": 4,
 "nbformat_minor": 5
}
