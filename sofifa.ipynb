{
 "cells": [
  {
   "cell_type": "code",
   "execution_count": 76,
   "id": "d6467726",
   "metadata": {},
   "outputs": [],
   "source": [
    "import requests\n",
    "from bs4 import BeautifulSoup\n",
    "import pandas as pd\n",
    "import re"
   ]
  },
  {
   "cell_type": "code",
   "execution_count": 77,
   "id": "2a78fb08",
   "metadata": {},
   "outputs": [],
   "source": [
    "standing_url = \"https://sofifa.com/\""
   ]
  },
  {
   "cell_type": "code",
   "execution_count": 79,
   "id": "7dacbaea",
   "metadata": {},
   "outputs": [],
   "source": [
    "links_data = requests.get(standing_url)"
   ]
  },
  {
   "cell_type": "code",
   "execution_count": 80,
   "id": "6002fc0b",
   "metadata": {},
   "outputs": [],
   "source": [
    "links_soup = BeautifulSoup(links_data.text)"
   ]
  },
  {
   "cell_type": "code",
   "execution_count": 81,
   "id": "35cc4632",
   "metadata": {},
   "outputs": [],
   "source": [
    "select_tbody = links_soup.select(\"body > div.center > div > div.col.col-12 > div > table > tbody\")[0]"
   ]
  },
  {
   "cell_type": "code",
   "execution_count": 82,
   "id": "172871c2",
   "metadata": {},
   "outputs": [],
   "source": [
    "athlete_links_a_unselected = select_tbody.find_all(\"a\")"
   ]
  },
  {
   "cell_type": "code",
   "execution_count": 83,
   "id": "0984f05f",
   "metadata": {},
   "outputs": [],
   "source": [
    "# 利用if 选择运动员link，获得60个运动员的数据链接\n",
    "athlete_links = [\"https://sofifa.com\" + link_a.get(\"href\") for link_a in athlete_links_a_unselected if link_a.get(\"data-tip-pos\") == \"top\"]"
   ]
  },
  {
   "cell_type": "code",
   "execution_count": 84,
   "id": "43f03fd0",
   "metadata": {},
   "outputs": [
    {
     "data": {
      "text/plain": [
       "'https://sofifa.com/player/268421/mathys-tel/230005/'"
      ]
     },
     "execution_count": 84,
     "metadata": {},
     "output_type": "execute_result"
    }
   ],
   "source": [
    "athlete_link = athlete_links[0]\n",
    "athlete_link"
   ]
  },
  {
   "cell_type": "markdown",
   "id": "156b6013",
   "metadata": {},
   "source": [
    "开始爬取运动员页面，例如，https://sofifa.com/player/268421/mathys-tel/230005/"
   ]
  },
  {
   "cell_type": "code",
   "execution_count": 85,
   "id": "3c8f14e9",
   "metadata": {},
   "outputs": [],
   "source": [
    "athlete_data = requests.get(athlete_link)"
   ]
  },
  {
   "cell_type": "code",
   "execution_count": 152,
   "id": "a75b41f9",
   "metadata": {},
   "outputs": [],
   "source": [
    "athlete_soup = BeautifulSoup(athlete_data.text)\n",
    "# overall_rating, potential, value, wage\n",
    "name_list = [\"overall_rating\", \"potential\", \"value\", \"wage\"]\n",
    "data_list = list(range(len(name_list)))"
   ]
  },
  {
   "cell_type": "code",
   "execution_count": 158,
   "id": "2ce223e1",
   "metadata": {},
   "outputs": [
    {
     "name": "stdout",
     "output_type": "stream",
     "text": [
      "2\n"
     ]
    }
   ],
   "source": [
    "# overall rating \n",
    "overall_rating = athlete_soup.select(\"#body > div:nth-child(5) > div > div.col.col-12 > div.bp3-card.player > section > div:nth-child(1) > div > span\")\n",
    "overall_rating_data = overall_rating[0].string\n",
    "data_list[0] = int(overall_rating_data)\n",
    "\n",
    "# potential\n",
    "potential = athlete_soup.select(\"#body > div:nth-child(5) > div > div.col.col-12 > div.bp3-card.player > section > div:nth-child(2) > div > span\")\n",
    "potential_data = potential[0].string\n",
    "potential_data\n",
    "data_list[1] = int(potential_data)\n",
    "\n",
    "#Value\n",
    "value = athlete_soup.select(\"#body > div:nth-child(5) > div > div.col.col-12 > div.bp3-card.player > section > div:nth-child(3) > div\")\n",
    "value_data = str(value[0])\n",
    "value_re = re.findall(\"(\\d+\\.?\\d*)([MK])\", value_data)\n",
    "value_num = value_re[0][0]\n",
    "value_unit = value_re[0][1]\n",
    "if value_unit == \"M\":\n",
    "    data_list[2] = (float(value_num)*10**6)\n",
    "elif value_unit == \"K\":\n",
    "    data_list[2] = (float(value_num*10**3))\n",
    "else:\n",
    "    print(\"clawer value failed.\")\n",
    "\n",
    "# Wage\n",
    "wage = athlete_soup.select(\"#body > div:nth-child(5) > div > div.col.col-12 > div.bp3-card.player > section > div:nth-child(4)\")\n",
    "wage_data = str(wage[0])\n",
    "wage_re = re.findall(\"(\\d+\\.?\\d*)([MK])\", wage_data)\n",
    "wage_num = wage_re[0][0]\n",
    "wage_unit = wage_re[0][1]\n",
    "if wage_unit == \"M\":\n",
    "    data_list[3] = (float(wage_num)*10**6)\n",
    "elif wage_unit == \"K\":\n",
    "    data_list[3] = (float(wage_num)*10**3)\n",
    "else:\n",
    "    print(\"clawer value failed.\")"
   ]
  },
  {
   "cell_type": "code",
   "execution_count": 162,
   "id": "c74b4df3",
   "metadata": {},
   "outputs": [
    {
     "name": "stdout",
     "output_type": "stream",
     "text": [
      "[64, 84, 1600000.0, 2000.0]\n",
      "['overall_rating', 'potential', 'value', 'wage']\n"
     ]
    }
   ],
   "source": [
    "print(data_list)\n",
    "print(name_list)"
   ]
  },
  {
   "cell_type": "code",
   "execution_count": null,
   "id": "31ea3ba1",
   "metadata": {},
   "outputs": [],
   "source": []
  }
 ],
 "metadata": {
  "kernelspec": {
   "display_name": "Python 3.8.8 ('base')",
   "language": "python",
   "name": "python3"
  },
  "language_info": {
   "codemirror_mode": {
    "name": "ipython",
    "version": 3
   },
   "file_extension": ".py",
   "mimetype": "text/x-python",
   "name": "python",
   "nbconvert_exporter": "python",
   "pygments_lexer": "ipython3",
   "version": "3.8.8"
  },
  "vscode": {
   "interpreter": {
    "hash": "3b6d5b87a7f66fd342792060d1484a61d0f1b5d1b520616f5a1f779c6e9c2878"
   }
  }
 },
 "nbformat": 4,
 "nbformat_minor": 5
}
