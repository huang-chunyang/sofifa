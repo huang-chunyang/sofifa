{
 "cells": [
  {
   "cell_type": "code",
   "execution_count": 1,
   "metadata": {},
   "outputs": [],
   "source": [
    "import pandas as pd\n",
    "from sklearn.ensemble import GradientBoostingRegressor\n",
    "import catboost\n",
    "import shap\n",
    "import matplotlib.pyplot as plt \n",
    "# 读取player 的数据\n",
    "player = pd.read_csv(\"../datafrom200/players.csv\")\n",
    "x_list = player.columns[7:-5]\n",
    "X = player[x_list]\n",
    "y = player[\"value\"]\n",
    "\n",
    "# 划分训练集 train, validation, test : 0.7, 0.15, 0.15\n",
    "from sklearn.model_selection import train_test_split\n",
    "X_train, X_test_val, y_train, y_test_val = train_test_split(X, y, test_size=0.3, random_state=21)\n",
    "X_validation, X_test, y_validation, y_test = train_test_split(X_test_val, y_test_val, test_size=0.5, random_state=23)"
   ]
  },
  {
   "cell_type": "code",
   "execution_count": 2,
   "metadata": {},
   "outputs": [
    {
     "name": "stdout",
     "output_type": "stream",
     "text": [
      "0.8717510241297542\n"
     ]
    },
    {
     "name": "stderr",
     "output_type": "stream",
     "text": [
      " 97%|=================== | 9906/10186 [00:33<00:00]       "
     ]
    }
   ],
   "source": [
    "gbdt = GradientBoostingRegressor(n_estimators=600).fit(X_train, y_train)\n",
    "print(gbdt.score(X_test, y_test))\n",
    "\n",
    "explainer_gbdt = shap.Explainer(gbdt, X_test)\n",
    "shap_values_gbdt = explainer_gbdt(X)"
   ]
  },
  {
   "cell_type": "code",
   "execution_count": 3,
   "metadata": {},
   "outputs": [],
   "source": [
    "# # Catboost\n",
    "# cbt = catboost.CatBoostRegressor()\n",
    "# cbt.fit(X_train, y_train)\n",
    "# print(cbt.score(X_test, y_test))\n",
    "\n",
    "# explainer_cbt = shap.Explainer(cbt)\n",
    "# shap_values_cbt = explainer_cbt(X)"
   ]
  },
  {
   "cell_type": "code",
   "execution_count": null,
   "metadata": {},
   "outputs": [],
   "source": [
    "name_list = [\"Harry Kane\", \"Mohamed Salah\", \"Kevin De Bruyne\", \"Bruno Fernandes\", \"John Stones\", \"Fernando Llorente Torres\", \"Kieran Trippier\", \"Dybala\", \"Trippier\", \"Lukaku\", \"Hakimi\", \"Robert Lewandowski\", \"Haaland\", \"Werner\", \"Kylian Mbappé Lottin\", \"Neymar\", \"Verratti\", \"Messi Cuccittini\"]\n",
    "for name_str in name_list:\n",
    "    mask = player[\"name\"].str.contains(name_str)\n",
    "    row = player[mask].index[0]\n",
    "    fig = plt.figure()\n",
    "    # shap.plots.waterfall(shap_values_gbdt[row])\n",
    "    values = explainer_gbdt.shap_values(X.iloc[row])\n",
    "    shap.force_plot(explainer_gbdt.expected_value, values, X.iloc[row], matplotlib=True)\n",
    "    plt.title(\"the explaining individual predictions of \" + name_str)\n",
    "    fig.tight_layout()\n",
    "    fig.savefig(\"../result/shap_value_local/{name}_gbdt.png\".format(name=name_str))\n",
    "\n",
    "    # fig = plt.figure()\n",
    "    # shap.plots.waterfall(shap_values_cbt[row])\n",
    "    # plt.title(\"the explaining individual predictions of \" + name_str)\n",
    "    # fig.tight_layout()\n",
    "    # fig.savefig(\"../result/shap_value_local/{name}_cbt.pdf\".format(name=name_str))"
   ]
  },
  {
   "cell_type": "code",
   "execution_count": 30,
   "metadata": {},
   "outputs": [
    {
     "ename": "IndexError",
     "evalue": "index 0 is out of bounds for axis 0 with size 0",
     "output_type": "error",
     "traceback": [
      "\u001b[0;31m---------------------------------------------------------------------------\u001b[0m",
      "\u001b[0;31mIndexError\u001b[0m                                Traceback (most recent call last)",
      "\u001b[0;32m/tmp/ipykernel_1029/2592895013.py\u001b[0m in \u001b[0;36m<module>\u001b[0;34m\u001b[0m\n\u001b[1;32m      2\u001b[0m \u001b[0;34m\u001b[0m\u001b[0m\n\u001b[1;32m      3\u001b[0m \u001b[0mmask\u001b[0m \u001b[0;34m=\u001b[0m \u001b[0mplayer\u001b[0m\u001b[0;34m[\u001b[0m\u001b[0;34m\"name\"\u001b[0m\u001b[0;34m]\u001b[0m\u001b[0;34m.\u001b[0m\u001b[0mstr\u001b[0m\u001b[0;34m.\u001b[0m\u001b[0mcontains\u001b[0m\u001b[0;34m(\u001b[0m\u001b[0mname_str\u001b[0m\u001b[0;34m)\u001b[0m\u001b[0;34m\u001b[0m\u001b[0;34m\u001b[0m\u001b[0m\n\u001b[0;32m----> 4\u001b[0;31m \u001b[0mrow\u001b[0m \u001b[0;34m=\u001b[0m \u001b[0mplayer\u001b[0m\u001b[0;34m[\u001b[0m\u001b[0mmask\u001b[0m\u001b[0;34m]\u001b[0m\u001b[0;34m.\u001b[0m\u001b[0mindex\u001b[0m\u001b[0;34m[\u001b[0m\u001b[0;36m0\u001b[0m\u001b[0;34m]\u001b[0m\u001b[0;34m\u001b[0m\u001b[0;34m\u001b[0m\u001b[0m\n\u001b[0m\u001b[1;32m      5\u001b[0m \u001b[0mvalues\u001b[0m \u001b[0;34m=\u001b[0m \u001b[0mexplainer_gbdt\u001b[0m\u001b[0;34m.\u001b[0m\u001b[0mshap_values\u001b[0m\u001b[0;34m(\u001b[0m\u001b[0mX\u001b[0m\u001b[0;34m.\u001b[0m\u001b[0miloc\u001b[0m\u001b[0;34m[\u001b[0m\u001b[0mrow\u001b[0m\u001b[0;34m]\u001b[0m\u001b[0;34m)\u001b[0m\u001b[0;34m\u001b[0m\u001b[0;34m\u001b[0m\u001b[0m\n\u001b[1;32m      6\u001b[0m \u001b[0mfig\u001b[0m \u001b[0;34m=\u001b[0m \u001b[0mplt\u001b[0m\u001b[0;34m.\u001b[0m\u001b[0mfigure\u001b[0m\u001b[0;34m(\u001b[0m\u001b[0;34m)\u001b[0m\u001b[0;34m\u001b[0m\u001b[0;34m\u001b[0m\u001b[0m\n",
      "\u001b[0;32m/usr/lib/python3/dist-packages/pandas/core/indexes/base.py\u001b[0m in \u001b[0;36m__getitem__\u001b[0;34m(self, key)\u001b[0m\n\u001b[1;32m   4602\u001b[0m         \u001b[0;32mif\u001b[0m \u001b[0mis_scalar\u001b[0m\u001b[0;34m(\u001b[0m\u001b[0mkey\u001b[0m\u001b[0;34m)\u001b[0m\u001b[0;34m:\u001b[0m\u001b[0;34m\u001b[0m\u001b[0;34m\u001b[0m\u001b[0m\n\u001b[1;32m   4603\u001b[0m             \u001b[0mkey\u001b[0m \u001b[0;34m=\u001b[0m \u001b[0mcom\u001b[0m\u001b[0;34m.\u001b[0m\u001b[0mcast_scalar_indexer\u001b[0m\u001b[0;34m(\u001b[0m\u001b[0mkey\u001b[0m\u001b[0;34m,\u001b[0m \u001b[0mwarn_float\u001b[0m\u001b[0;34m=\u001b[0m\u001b[0;32mTrue\u001b[0m\u001b[0;34m)\u001b[0m\u001b[0;34m\u001b[0m\u001b[0;34m\u001b[0m\u001b[0m\n\u001b[0;32m-> 4604\u001b[0;31m             \u001b[0;32mreturn\u001b[0m \u001b[0mgetitem\u001b[0m\u001b[0;34m(\u001b[0m\u001b[0mkey\u001b[0m\u001b[0;34m)\u001b[0m\u001b[0;34m\u001b[0m\u001b[0;34m\u001b[0m\u001b[0m\n\u001b[0m\u001b[1;32m   4605\u001b[0m \u001b[0;34m\u001b[0m\u001b[0m\n\u001b[1;32m   4606\u001b[0m         \u001b[0;32mif\u001b[0m \u001b[0misinstance\u001b[0m\u001b[0;34m(\u001b[0m\u001b[0mkey\u001b[0m\u001b[0;34m,\u001b[0m \u001b[0mslice\u001b[0m\u001b[0;34m)\u001b[0m\u001b[0;34m:\u001b[0m\u001b[0;34m\u001b[0m\u001b[0;34m\u001b[0m\u001b[0m\n",
      "\u001b[0;31mIndexError\u001b[0m: index 0 is out of bounds for axis 0 with size 0"
     ]
    }
   ],
   "source": [
    "name_str = \"Cristiano Ronaldo dos Santos Aveiro\"\n",
    "\n",
    "mask = player[\"name\"].str.contains(name_str)\n",
    "row = player[mask].index[0]\n",
    "values = explainer_gbdt.shap_values(X.iloc[row])\n",
    "fig = plt.figure()\n",
    "shap.initjs()\n",
    "shap.force_plot(explainer_gbdt.expected_value, values, X.iloc[row], matplotlib=True)\n",
    "fig.tight_layout()\n"
   ]
  },
  {
   "cell_type": "markdown",
   "metadata": {},
   "source": []
  },
  {
   "cell_type": "code",
   "execution_count": 35,
   "metadata": {},
   "outputs": [
    {
     "data": {
      "text/html": [
       "<div>\n",
       "<style scoped>\n",
       "    .dataframe tbody tr th:only-of-type {\n",
       "        vertical-align: middle;\n",
       "    }\n",
       "\n",
       "    .dataframe tbody tr th {\n",
       "        vertical-align: top;\n",
       "    }\n",
       "\n",
       "    .dataframe thead th {\n",
       "        text-align: right;\n",
       "    }\n",
       "</style>\n",
       "<table border=\"1\" class=\"dataframe\">\n",
       "  <thead>\n",
       "    <tr style=\"text-align: right;\">\n",
       "      <th></th>\n",
       "      <th>Unnamed: 0</th>\n",
       "      <th>Unnamed: 0.1</th>\n",
       "      <th>name</th>\n",
       "      <th>overall_rating</th>\n",
       "      <th>potential</th>\n",
       "      <th>value</th>\n",
       "      <th>wage</th>\n",
       "      <th>Crossing</th>\n",
       "      <th>Finishing</th>\n",
       "      <th>Heading_Accuracy</th>\n",
       "      <th>...</th>\n",
       "      <th>Penalties</th>\n",
       "      <th>Composure</th>\n",
       "      <th>Defensive_Awareness</th>\n",
       "      <th>Standing_Tackle</th>\n",
       "      <th>Sliding_Tackle</th>\n",
       "      <th>GK_Diving</th>\n",
       "      <th>GK_Handling</th>\n",
       "      <th>GK_Kicking</th>\n",
       "      <th>GK_Positioning</th>\n",
       "      <th>GK_Reflexes</th>\n",
       "    </tr>\n",
       "  </thead>\n",
       "  <tbody>\n",
       "    <tr>\n",
       "      <th>7719</th>\n",
       "      <td>33</td>\n",
       "      <td>33.0</td>\n",
       "      <td>Cristiano Biraghi</td>\n",
       "      <td>80.0</td>\n",
       "      <td>80.0</td>\n",
       "      <td>18500000.0</td>\n",
       "      <td>58000.0</td>\n",
       "      <td>85.0</td>\n",
       "      <td>58.0</td>\n",
       "      <td>70.0</td>\n",
       "      <td>...</td>\n",
       "      <td>73.0</td>\n",
       "      <td>80.0</td>\n",
       "      <td>79.0</td>\n",
       "      <td>77.0</td>\n",
       "      <td>74.0</td>\n",
       "      <td>12.0</td>\n",
       "      <td>6.0</td>\n",
       "      <td>14.0</td>\n",
       "      <td>10.0</td>\n",
       "      <td>7.0</td>\n",
       "    </tr>\n",
       "    <tr>\n",
       "      <th>7731</th>\n",
       "      <td>46</td>\n",
       "      <td>46.0</td>\n",
       "      <td>Cristiano Piccini</td>\n",
       "      <td>72.0</td>\n",
       "      <td>72.0</td>\n",
       "      <td>2000000.0</td>\n",
       "      <td>10000.0</td>\n",
       "      <td>67.0</td>\n",
       "      <td>35.0</td>\n",
       "      <td>66.0</td>\n",
       "      <td>...</td>\n",
       "      <td>44.0</td>\n",
       "      <td>76.0</td>\n",
       "      <td>72.0</td>\n",
       "      <td>74.0</td>\n",
       "      <td>72.0</td>\n",
       "      <td>8.0</td>\n",
       "      <td>9.0</td>\n",
       "      <td>5.0</td>\n",
       "      <td>7.0</td>\n",
       "      <td>11.0</td>\n",
       "    </tr>\n",
       "    <tr>\n",
       "      <th>8197</th>\n",
       "      <td>36</td>\n",
       "      <td>36.0</td>\n",
       "      <td>Gianluca Cristiano Busio</td>\n",
       "      <td>73.0</td>\n",
       "      <td>84.0</td>\n",
       "      <td>6500000.0</td>\n",
       "      <td>4000.0</td>\n",
       "      <td>54.0</td>\n",
       "      <td>63.0</td>\n",
       "      <td>58.0</td>\n",
       "      <td>...</td>\n",
       "      <td>60.0</td>\n",
       "      <td>73.0</td>\n",
       "      <td>60.0</td>\n",
       "      <td>67.0</td>\n",
       "      <td>58.0</td>\n",
       "      <td>15.0</td>\n",
       "      <td>15.0</td>\n",
       "      <td>6.0</td>\n",
       "      <td>12.0</td>\n",
       "      <td>13.0</td>\n",
       "    </tr>\n",
       "  </tbody>\n",
       "</table>\n",
       "<p>3 rows × 41 columns</p>\n",
       "</div>"
      ],
      "text/plain": [
       "      Unnamed: 0  Unnamed: 0.1                      name  overall_rating  \\\n",
       "7719          33          33.0         Cristiano Biraghi            80.0   \n",
       "7731          46          46.0         Cristiano Piccini            72.0   \n",
       "8197          36          36.0  Gianluca Cristiano Busio            73.0   \n",
       "\n",
       "      potential       value     wage  Crossing  Finishing  Heading_Accuracy  \\\n",
       "7719       80.0  18500000.0  58000.0      85.0       58.0              70.0   \n",
       "7731       72.0   2000000.0  10000.0      67.0       35.0              66.0   \n",
       "8197       84.0   6500000.0   4000.0      54.0       63.0              58.0   \n",
       "\n",
       "      ...  Penalties  Composure  Defensive_Awareness  Standing_Tackle  \\\n",
       "7719  ...       73.0       80.0                 79.0             77.0   \n",
       "7731  ...       44.0       76.0                 72.0             74.0   \n",
       "8197  ...       60.0       73.0                 60.0             67.0   \n",
       "\n",
       "      Sliding_Tackle  GK_Diving  GK_Handling  GK_Kicking  GK_Positioning  \\\n",
       "7719            74.0       12.0          6.0        14.0            10.0   \n",
       "7731            72.0        8.0          9.0         5.0             7.0   \n",
       "8197            58.0       15.0         15.0         6.0            12.0   \n",
       "\n",
       "      GK_Reflexes  \n",
       "7719          7.0  \n",
       "7731         11.0  \n",
       "8197         13.0  \n",
       "\n",
       "[3 rows x 41 columns]"
      ]
     },
     "execution_count": 35,
     "metadata": {},
     "output_type": "execute_result"
    }
   ],
   "source": [
    "name_str = \"Cristiano\"\n",
    "\n",
    "mask = player[\"name\"].str.contains(name_str)\n",
    "player[mask]\n"
   ]
  }
 ],
 "metadata": {
  "kernelspec": {
   "display_name": "Python 3",
   "language": "python",
   "name": "python3"
  },
  "language_info": {
   "codemirror_mode": {
    "name": "ipython",
    "version": 3
   },
   "file_extension": ".py",
   "mimetype": "text/x-python",
   "name": "python",
   "nbconvert_exporter": "python",
   "pygments_lexer": "ipython3",
   "version": "3.10.4"
  },
  "orig_nbformat": 4,
  "vscode": {
   "interpreter": {
    "hash": "916dbcbb3f70747c44a77c7bcd40155683ae19c65e1c03b4aa3499c5328201f1"
   }
  }
 },
 "nbformat": 4,
 "nbformat_minor": 2
}
