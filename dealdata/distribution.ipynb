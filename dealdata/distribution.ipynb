{
 "cells": [
  {
   "cell_type": "code",
   "execution_count": 1,
   "metadata": {},
   "outputs": [
    {
     "name": "stdout",
     "output_type": "stream",
     "text": [
      "Index(['Crossing', 'Finishing', 'Heading_Accuracy', 'Short_Passing', 'Volleys',\n",
      "       'Dribbling', 'Curve', 'FK_Accuracy', 'Long_Passing', 'Ball_Control',\n",
      "       'Acceleration', 'Sprint_Speed', 'Agility', 'Reactions', 'Balance',\n",
      "       'Shot_Power', 'Jumping', 'Stamina', 'Strength', 'Long_Shots',\n",
      "       'Aggression', 'Interceptions', 'Positioning', 'Vision', 'Penalties',\n",
      "       'Composure', 'Defensive_Awareness', 'Standing_Tackle',\n",
      "       'Sliding_Tackle'],\n",
      "      dtype='object')\n"
     ]
    }
   ],
   "source": [
    "import pandas as pd\n",
    "# 读取player 的数据\n",
    "player = pd.read_csv(\"../datafrom200/players.csv\")\n",
    "x_list = player.columns[7:-5]\n",
    "print(x_list)\n",
    "X = player[x_list]\n",
    "y = player[\"value\"]"
   ]
  },
  {
   "cell_type": "code",
   "execution_count": 5,
   "metadata": {},
   "outputs": [
    {
     "data": {
      "text/plain": [
       "190500000.0"
      ]
     },
     "execution_count": 5,
     "metadata": {},
     "output_type": "execute_result"
    }
   ],
   "source": [
    "values = player[\"value\"]\n",
    "values.max()"
   ]
  },
  {
   "cell_type": "code",
   "execution_count": 16,
   "metadata": {},
   "outputs": [
    {
     "data": {
      "image/png": "[encoded data removed]",
      "text/plain": [
       "<Figure size 432x288 with 1 Axes>"
      ]
     },
     "metadata": {
      "needs_background": "light"
     },
     "output_type": "display_data"
    }
   ],
   "source": [
    "import matplotlib.pyplot as plt \n",
    "plt.hist(values, bins=80)\n",
    "plt.xlabel(\"value\")\n",
    "plt.title(\"distribution of value\")\n",
    "plt.show()"
   ]
  },
  {
   "cell_type": "code",
   "execution_count": 17,
   "metadata": {},
   "outputs": [
    {
     "data": {
      "image/png": "[encoded data removed]",
      "text/plain": [
       "<Figure size 432x288 with 1 Axes>"
      ]
     },
     "metadata": {
      "needs_background": "light"
     },
     "output_type": "display_data"
    }
   ],
   "source": [
    "import numpy as np\n",
    "log_values = np.log10(values)\n",
    "plt.hist(log_values, bins=30)\n",
    "plt.xlabel(\"log value\")\n",
    "plt.title(\"log distribution\")\n",
    "plt.show()"
   ]
  }
 ],
 "metadata": {
  "kernelspec": {
   "display_name": "Python 3",
   "language": "python",
   "name": "python3"
  },
  "language_info": {
   "codemirror_mode": {
    "name": "ipython",
    "version": 3
   },
   "file_extension": ".py",
   "mimetype": "text/x-python",
   "name": "python",
   "nbconvert_exporter": "python",
   "pygments_lexer": "ipython3",
   "version": "3.10.4"
  },
  "orig_nbformat": 4,
  "vscode": {
   "interpreter": {
    "hash": "916dbcbb3f70747c44a77c7bcd40155683ae19c65e1c03b4aa3499c5328201f1"
   }
  }
 },
 "nbformat": 4,
 "nbformat_minor": 2
}
