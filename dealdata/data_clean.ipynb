{
 "cells": [
  {
   "cell_type": "code",
   "execution_count": 2,
   "metadata": {},
   "outputs": [],
   "source": [
    "import pandas as pd\n",
    "import numpy as np\n",
    "import os"
   ]
  },
  {
   "cell_type": "code",
   "execution_count": 3,
   "metadata": {},
   "outputs": [],
   "source": [
    "# 列出每个小数据集的path\n",
    "# df_path_list[0]: '../data_200/190page.csv'\n",
    "df_path = \"../data_200/\"\n",
    "df_name_list = os.listdir(df_path)\n",
    "df_path_list = [df_path + l for l in df_name_list]"
   ]
  },
  {
   "cell_type": "code",
   "execution_count": 4,
   "metadata": {},
   "outputs": [],
   "source": [
    "# 读取并合并\n",
    "df_list =[]\n",
    "for path in df_path_list:\n",
    "    df_list.append(pd.read_csv(path))\n",
    "df = pd.concat(df_list)\n",
    "df.to_csv(\"../datafrom200/concat.csv\")"
   ]
  },
  {
   "cell_type": "code",
   "execution_count": 5,
   "metadata": {},
   "outputs": [
    {
     "name": "stdout",
     "output_type": "stream",
     "text": [
      "(11709, 40)\n",
      "(11298, 40)\n"
     ]
    }
   ],
   "source": [
    "# 数据清洗\n",
    "print(df.shape)\n",
    "df.replace([np.inf, -np.inf, 0], np.nan, inplace=True)\n",
    "df.dropna(inplace=True)\n",
    "print(df.shape)"
   ]
  },
  {
   "cell_type": "code",
   "execution_count": 16,
   "metadata": {},
   "outputs": [],
   "source": [
    "import matplotlib.pyplot as plt\n",
    "from matplotlib.backends.backend_pdf import PdfPages\n",
    "# 绘图观察\n",
    "# 各因素的distribution\n",
    "with PdfPages(\"../trypic/all_distributions.pdf\") as pp:\n",
    "    for i in list(df.columns[4:]):\n",
    "        plt.hist(df[i], bins=100)\n",
    "        plt.title(i + \" distribution\")\n",
    "        pp.savefig()\n",
    "        plt.close()"
   ]
  },
  {
   "cell_type": "code",
   "execution_count": 26,
   "metadata": {},
   "outputs": [],
   "source": [
    "y_index_list = df.columns[4:6]\n",
    "x_index_list = df.columns[6:]\n",
    "# 各因素与value, wage 的关系\n",
    "with PdfPages(\"../trypic/all_try_pictures.pdf\") as pp:\n",
    "    for x in range(len(x_index_list)):\n",
    "        for y in range(len(y_index_list)):\n",
    "            plt.scatter(df[x_index_list[x]], df[y_index_list[y]])\n",
    "            plt.title(y_index_list[y] + \"-\" + x_index_list[x])\n",
    "            plt.xlabel(x_index_list[x])\n",
    "            plt.ylabel(y_index_list[y])\n",
    "            pp.savefig()\n",
    "            plt.close()"
   ]
  },
  {
   "cell_type": "code",
   "execution_count": 6,
   "metadata": {},
   "outputs": [
    {
     "name": "stdout",
     "output_type": "stream",
     "text": [
      "(10186, 40) (1111, 40)\n"
     ]
    }
   ],
   "source": [
    "# 区分球员和守门员\n",
    "player = df[df[\"GK_Diving\"] < 40]\n",
    "goalkeeper = df[df[\"GK_Diving\"] > 40]\n",
    "print(player.shape, goalkeeper.shape)\n",
    "player.to_csv(\"../datafrom200/players.csv\")\n",
    "goalkeeper.to_csv(\"../datafrom200/goalkeeper.csv\")"
   ]
  },
  {
   "cell_type": "code",
   "execution_count": 7,
   "metadata": {},
   "outputs": [],
   "source": []
  },
  {
   "cell_type": "code",
   "execution_count": null,
   "metadata": {},
   "outputs": [],
   "source": []
  }
 ],
 "metadata": {
  "kernelspec": {
   "display_name": "Python 3.8.8 ('base': conda)",
   "language": "python",
   "name": "python3"
  },
  "language_info": {
   "codemirror_mode": {
    "name": "ipython",
    "version": 3
   },
   "file_extension": ".py",
   "mimetype": "text/x-python",
   "name": "python",
   "nbconvert_exporter": "python",
   "pygments_lexer": "ipython3",
   "version": "3.8.8 (default, Apr 13 2021, 19:58:26) \n[GCC 7.3.0]"
  },
  "orig_nbformat": 4,
  "vscode": {
   "interpreter": {
    "hash": "3b6d5b87a7f66fd342792060d1484a61d0f1b5d1b520616f5a1f779c6e9c2878"
   }
  }
 },
 "nbformat": 4,
 "nbformat_minor": 2
}
