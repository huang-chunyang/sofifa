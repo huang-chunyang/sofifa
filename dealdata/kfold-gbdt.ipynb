{
 "cells": [
  {
   "cell_type": "code",
   "execution_count": 9,
   "metadata": {},
   "outputs": [],
   "source": [
    "from sklearn.model_selection import train_test_split\n",
    "from sklearn.model_selection import cross_val_score, KFold\n",
    "import pandas as pd\n",
    "import numpy as np\n",
    "from sklearn.metrics import make_scorer, mean_squared_error"
   ]
  },
  {
   "cell_type": "code",
   "execution_count": 2,
   "metadata": {},
   "outputs": [],
   "source": [
    "# 读取player 的数据\n",
    "player = pd.read_csv(\"../datafrom200/players.csv\")\n",
    "x_list = player.columns[7:-5]\n",
    "x_list = ['Crossing', 'Finishing', 'Heading_Accuracy', 'Short_Passing', 'Volleys',\n",
    "       'Dribbling', 'Curve', 'FK_Accuracy', 'Long_Passing', 'Ball_Control',\n",
    "       'Acceleration', 'Sprint_Speed', 'Agility', 'Reactions', 'Balance',\n",
    "       'Shot_Power', 'Jumping', 'Stamina', 'Strength', 'Long_Shots',\n",
    "       'Aggression', 'Interceptions', 'Positioning', 'Vision', 'Penalties',\n",
    "       'Composure', 'Defensive_Awareness']\n",
    "# print(x_list)\n",
    "X = player[x_list]\n",
    "y = player[\"value\"]\n",
    "# len(x_list)"
   ]
  },
  {
   "cell_type": "code",
   "execution_count": 5,
   "metadata": {},
   "outputs": [
    {
     "name": "stdout",
     "output_type": "stream",
     "text": [
      "Cross-validation scores: \n",
      " [0.8370353  0.90209323 0.88706862 0.90585946 0.90159163 0.90287685\n",
      " 0.90249051 0.85854384 0.9044244  0.88653671]\n",
      "Average cross-validation score: 0.89\n"
     ]
    }
   ],
   "source": [
    "# GBDT\n",
    "# 创建模型\n",
    "from sklearn.ensemble import GradientBoostingRegressor\n",
    "n = 600\n",
    "model = GradientBoostingRegressor(n_estimators=n)\n",
    "\n",
    "# 创建交叉验证方法\n",
    "kfold = KFold(n_splits=10, shuffle=True, random_state=0)\n",
    "\n",
    "# 使用cross_val_score进行交叉验证\n",
    "scores = cross_val_score(model, X, y, cv=kfold)\n"
   ]
  },
  {
   "cell_type": "code",
   "execution_count": 7,
   "metadata": {},
   "outputs": [
    {
     "name": "stdout",
     "output_type": "stream",
     "text": [
      "Cross-validation scores: \n",
      " [0.8370353  0.90209323 0.88706862 0.90585946 0.90159163 0.90287685\n",
      " 0.90249051 0.85854384 0.9044244  0.88653671]\n",
      "Average cross-validation score: 0.889\n"
     ]
    }
   ],
   "source": [
    "# 输出结果\n",
    "print('Cross-validation scores: \\n', scores)\n",
    "print('Average cross-validation score: {:.3f}'.format(scores.mean()))"
   ]
  },
  {
   "cell_type": "code",
   "execution_count": 8,
   "metadata": {},
   "outputs": [],
   "source": [
    "pd.DataFrame(scores).to_csv(\"../result/kfold-gbdt-r2.csv\")"
   ]
  },
  {
   "cell_type": "code",
   "execution_count": 10,
   "metadata": {},
   "outputs": [],
   "source": [
    "# 定义RMSE评分函数\n",
    "def rmse(y_true, y_pred):\n",
    "    return np.sqrt(mean_squared_error(y_true, y_pred))"
   ]
  },
  {
   "cell_type": "code",
   "execution_count": 11,
   "metadata": {},
   "outputs": [],
   "source": [
    "# 创建RMSE评分器\n",
    "rmse_scorer = make_scorer(rmse, greater_is_better=False)"
   ]
  },
  {
   "cell_type": "code",
   "execution_count": 12,
   "metadata": {},
   "outputs": [],
   "source": [
    "# 使用cross_val_score进行交叉验证\n",
    "scores = cross_val_score(model, X, y, cv=kfold, scoring=rmse_scorer)"
   ]
  },
  {
   "cell_type": "code",
   "execution_count": 20,
   "metadata": {},
   "outputs": [
    {
     "name": "stdout",
     "output_type": "stream",
     "text": [
      "Cross-validation scores: \n",
      " [4474761.96919141 2918125.52375778 2576815.46157152 3347999.17910575\n",
      " 2860263.50775771 2797778.11066263 3000152.5509657  2882770.41046387\n",
      " 2974522.36049625 2769096.61283501]\n",
      "Average cross-validation score: 3060228.569\n"
     ]
    }
   ],
   "source": [
    "scores = -scores\n",
    "# 输出结果\n",
    "print('Cross-validation scores: \\n', scores)\n",
    "print('Average cross-validation score: {:.3f}'.format(scores.mean()))\n",
    "pd.DataFrame(scores).to_csv(\"../result/kfold-gbdt-rmse.csv\")"
   ]
  },
  {
   "cell_type": "code",
   "execution_count": 22,
   "metadata": {},
   "outputs": [
    {
     "data": {
      "text/plain": [
       "3060228.5686807623"
      ]
     },
     "execution_count": 22,
     "metadata": {},
     "output_type": "execute_result"
    }
   ],
   "source": [
    "scores.mean()"
   ]
  }
 ],
 "metadata": {
  "kernelspec": {
   "display_name": "Python 3",
   "language": "python",
   "name": "python3"
  },
  "language_info": {
   "codemirror_mode": {
    "name": "ipython",
    "version": 3
   },
   "file_extension": ".py",
   "mimetype": "text/x-python",
   "name": "python",
   "nbconvert_exporter": "python",
   "pygments_lexer": "ipython3",
   "version": "3.10.4"
  },
  "orig_nbformat": 4
 },
 "nbformat": 4,
 "nbformat_minor": 2
}
