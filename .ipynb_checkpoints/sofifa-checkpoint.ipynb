{
 "cells": [
  {
   "cell_type": "code",
   "execution_count": 1,
   "id": "d6467726",
   "metadata": {},
   "outputs": [],
   "source": [
    "import requests\n",
    "from bs4 import BeautifulSoup\n",
    "import pandas as pd\n",
    "import re"
   ]
  },
  {
   "cell_type": "code",
   "execution_count": 2,
   "id": "2a78fb08",
   "metadata": {},
   "outputs": [],
   "source": [
    "standing_url = \"https://sofifa.com/\""
   ]
  },
  {
   "cell_type": "code",
   "execution_count": 3,
   "id": "7dacbaea",
   "metadata": {},
   "outputs": [],
   "source": [
    "links_data = requests.get(standing_url)"
   ]
  },
  {
   "cell_type": "code",
   "execution_count": 4,
   "id": "6002fc0b",
   "metadata": {},
   "outputs": [],
   "source": [
    "links_soup = BeautifulSoup(links_data.text)"
   ]
  },
  {
   "cell_type": "code",
   "execution_count": 5,
   "id": "35cc4632",
   "metadata": {},
   "outputs": [],
   "source": [
    "select_tbody = links_soup.select(\"body > div.center > div > div.col.col-12 > div > table > tbody\")[0]"
   ]
  },
  {
   "cell_type": "code",
   "execution_count": 6,
   "id": "172871c2",
   "metadata": {},
   "outputs": [],
   "source": [
    "athlete_links_a_unselected = select_tbody.find_all(\"a\")"
   ]
  },
  {
   "cell_type": "code",
   "execution_count": 7,
   "id": "0984f05f",
   "metadata": {},
   "outputs": [],
   "source": [
    "# 利用if 选择运动员link，获得60个运动员的数据链接\n",
    "athlete_links = [\"https://sofifa.com\" + link_a.get(\"href\") for link_a in athlete_links_a_unselected if link_a.get(\"data-tip-pos\") == \"top\"]"
   ]
  },
  {
   "cell_type": "code",
   "execution_count": 19,
   "id": "43f03fd0",
   "metadata": {},
   "outputs": [
    {
     "data": {
      "text/plain": [
       "'https://sofifa.com/player/189358/shinji-kagawa/230004/'"
      ]
     },
     "execution_count": 19,
     "metadata": {},
     "output_type": "execute_result"
    }
   ],
   "source": [
    "athlete_link = athlete_links[0]\n",
    "athlete_link"
   ]
  },
  {
   "cell_type": "markdown",
   "id": "156b6013",
   "metadata": {},
   "source": [
    "开始爬取运动员页面，例如，https://sofifa.com/player/239981/jann-fiete-arp/230004/"
   ]
  },
  {
   "cell_type": "code",
   "execution_count": 9,
   "id": "3c8f14e9",
   "metadata": {},
   "outputs": [],
   "source": [
    "athlete_data = requests.get(athlete_link)"
   ]
  },
  {
   "cell_type": "code",
   "execution_count": 10,
   "id": "a75b41f9",
   "metadata": {},
   "outputs": [],
   "source": [
    "athlete_soup = BeautifulSoup(athlete_data.text)"
   ]
  },
  {
   "cell_type": "code",
   "execution_count": 11,
   "id": "4cdff658",
   "metadata": {},
   "outputs": [],
   "source": [
    "scoal_value_data = athlete_soup.select(\"body > div:nth-child(5) > div > div.col.col-12 > div.bp3-card.player > section\")[0].find_all(\"div\", {\"class\": \"block-quarter\"})"
   ]
  },
  {
   "cell_type": "code",
   "execution_count": 18,
   "id": "a433cb70",
   "metadata": {},
   "outputs": [
    {
     "name": "stdout",
     "output_type": "stream",
     "text": [
      "72 Overall Rating\n",
      "72 Potential\n"
     ]
    },
    {
     "ename": "AttributeError",
     "evalue": "'NoneType' object has no attribute 'group'",
     "output_type": "error",
     "traceback": [
      "\u001b[0;31m---------------------------------------------------------------------------\u001b[0m",
      "\u001b[0;31mAttributeError\u001b[0m                            Traceback (most recent call last)",
      "\u001b[0;32m<ipython-input-18-c9e35ff08df6>\u001b[0m in \u001b[0;36m<module>\u001b[0;34m\u001b[0m\n\u001b[1;32m      2\u001b[0m \u001b[0mmacth_name\u001b[0m \u001b[0;34m=\u001b[0m \u001b[0;34m\".+>([A-Za-z]+\\s?[A-Za-z]+?)<\"\u001b[0m\u001b[0;34m\u001b[0m\u001b[0;34m\u001b[0m\u001b[0m\n\u001b[1;32m      3\u001b[0m \u001b[0;32mfor\u001b[0m \u001b[0mi\u001b[0m \u001b[0;32min\u001b[0m \u001b[0mrange\u001b[0m\u001b[0;34m(\u001b[0m\u001b[0mlen\u001b[0m\u001b[0;34m(\u001b[0m\u001b[0mscoal_value_data\u001b[0m\u001b[0;34m)\u001b[0m\u001b[0;34m)\u001b[0m\u001b[0;34m:\u001b[0m\u001b[0;34m\u001b[0m\u001b[0;34m\u001b[0m\u001b[0m\n\u001b[0;32m----> 4\u001b[0;31m     \u001b[0mname\u001b[0m \u001b[0;34m=\u001b[0m \u001b[0mre\u001b[0m\u001b[0;34m.\u001b[0m\u001b[0mmatch\u001b[0m\u001b[0;34m(\u001b[0m\u001b[0mmatch_number\u001b[0m\u001b[0;34m,\u001b[0m \u001b[0mstr\u001b[0m\u001b[0;34m(\u001b[0m\u001b[0mscoal_value_data\u001b[0m\u001b[0;34m[\u001b[0m\u001b[0mi\u001b[0m\u001b[0;34m]\u001b[0m\u001b[0;34m)\u001b[0m\u001b[0;34m)\u001b[0m\u001b[0;34m.\u001b[0m\u001b[0mgroup\u001b[0m\u001b[0;34m(\u001b[0m\u001b[0;36m1\u001b[0m\u001b[0;34m)\u001b[0m\u001b[0;34m\u001b[0m\u001b[0;34m\u001b[0m\u001b[0m\n\u001b[0m\u001b[1;32m      5\u001b[0m     \u001b[0mnum\u001b[0m \u001b[0;34m=\u001b[0m \u001b[0mre\u001b[0m\u001b[0;34m.\u001b[0m\u001b[0mmatch\u001b[0m\u001b[0;34m(\u001b[0m\u001b[0mmacth_name\u001b[0m\u001b[0;34m,\u001b[0m \u001b[0mstr\u001b[0m\u001b[0;34m(\u001b[0m\u001b[0mscoal_value_data\u001b[0m\u001b[0;34m[\u001b[0m\u001b[0mi\u001b[0m\u001b[0;34m]\u001b[0m\u001b[0;34m)\u001b[0m\u001b[0;34m)\u001b[0m\u001b[0;34m.\u001b[0m\u001b[0mgroup\u001b[0m\u001b[0;34m(\u001b[0m\u001b[0;36m1\u001b[0m\u001b[0;34m)\u001b[0m\u001b[0;34m\u001b[0m\u001b[0;34m\u001b[0m\u001b[0m\n\u001b[1;32m      6\u001b[0m     \u001b[0mprint\u001b[0m\u001b[0;34m(\u001b[0m\u001b[0mname\u001b[0m\u001b[0;34m,\u001b[0m \u001b[0mnum\u001b[0m\u001b[0;34m)\u001b[0m\u001b[0;34m\u001b[0m\u001b[0;34m\u001b[0m\u001b[0m\n",
      "\u001b[0;31mAttributeError\u001b[0m: 'NoneType' object has no attribute 'group'"
     ]
    }
   ],
   "source": [
    "match_number = \".+>([\\d]+)<\"\n",
    "macth_name = \".+>([A-Za-z]+\\s?[A-Za-z]+?)<\"\n",
    "for i in range(len(scoal_value_data)):\n",
    "    name = re.match(match_number, str(scoal_value_data[i])).group(1)\n",
    "    num = re.match(macth_name, str(scoal_value_data[i])).group(1)\n",
    "    print(name, num)"
   ]
  },
  {
   "cell_type": "code",
   "execution_count": 12,
   "id": "ef6e8af9",
   "metadata": {},
   "outputs": [
    {
     "data": {
      "text/plain": [
       "[<div class=\"block-quarter\"><div><span class=\"bp3-tag p p-72\">72</span> <div class=\"sub\">Overall Rating</div></div></div>,\n",
       " <div class=\"block-quarter\"><div><span class=\"bp3-tag p p-72\">72</span> <div class=\"sub\">Potential</div></div></div>,\n",
       " <div class=\"block-quarter\"><div>€1.5M<div class=\"sub\">Value</div></div></div>,\n",
       " <div class=\"block-quarter\"><div>€11K<div class=\"sub\">Wage</div></div></div>]"
      ]
     },
     "execution_count": 12,
     "metadata": {},
     "output_type": "execute_result"
    }
   ],
   "source": [
    "scoal_value_data"
   ]
  },
  {
   "cell_type": "code",
   "execution_count": 24,
   "id": "a2641c84",
   "metadata": {},
   "outputs": [
    {
     "data": {
      "text/plain": [
       "'<div class=\"block-quarter\"><div>€11K<div class=\"sub\">Wage</div></div></div>'"
      ]
     },
     "execution_count": 24,
     "metadata": {},
     "output_type": "execute_result"
    }
   ],
   "source": [
    "a = str(scoal_value_data[3])\n",
    "str(scoal_value_data[3])"
   ]
  },
  {
   "cell_type": "code",
   "execution_count": 25,
   "id": "fc7773aa",
   "metadata": {},
   "outputs": [],
   "source": [
    "match_number = \".+(€)\"\n",
    "r = re.match(match_number, a).group(1)"
   ]
  },
  {
   "cell_type": "code",
   "execution_count": 26,
   "id": "51467b96",
   "metadata": {},
   "outputs": [
    {
     "data": {
      "text/plain": [
       "'€'"
      ]
     },
     "execution_count": 26,
     "metadata": {},
     "output_type": "execute_result"
    }
   ],
   "source": [
    "r"
   ]
  },
  {
   "cell_type": "code",
   "execution_count": 16,
   "id": "3d80f756",
   "metadata": {},
   "outputs": [],
   "source": [
    "macth_name = \".+>([A-Za-z]+\\s?[A-Za-z]+?)<\"\n",
    "m = re.match(macth_name, a)"
   ]
  },
  {
   "cell_type": "code",
   "execution_count": 17,
   "id": "64a139c5",
   "metadata": {},
   "outputs": [
    {
     "data": {
      "text/plain": [
       "'Overall Rating'"
      ]
     },
     "execution_count": 17,
     "metadata": {},
     "output_type": "execute_result"
    }
   ],
   "source": [
    "m.group(1)"
   ]
  },
  {
   "cell_type": "code",
   "execution_count": null,
   "id": "daab8dec",
   "metadata": {},
   "outputs": [],
   "source": []
  }
 ],
 "metadata": {
  "kernelspec": {
   "display_name": "Python 3",
   "language": "python",
   "name": "python3"
  },
  "language_info": {
   "codemirror_mode": {
    "name": "ipython",
    "version": 3
   },
   "file_extension": ".py",
   "mimetype": "text/x-python",
   "name": "python",
   "nbconvert_exporter": "python",
   "pygments_lexer": "ipython3",
   "version": "3.8.8"
  }
 },
 "nbformat": 4,
 "nbformat_minor": 5
}
