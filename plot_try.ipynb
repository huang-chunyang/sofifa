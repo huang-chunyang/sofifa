{
 "cells": [
  {
   "cell_type": "code",
   "execution_count": 1,
   "metadata": {},
   "outputs": [],
   "source": [
    "import numpy as np\n",
    "import pandas as pd\n",
    "import matplotlib.pyplot as plt\n",
    "from matplotlib.backends.backend_pdf import PdfPages\n",
    "from tqdm import tqdm\n"
   ]
  },
  {
   "cell_type": "code",
   "execution_count": 2,
   "metadata": {},
   "outputs": [],
   "source": [
    "data = pd.read_csv(\"./raw_data/cleaned_data.csv\")"
   ]
  },
  {
   "cell_type": "code",
   "execution_count": 4,
   "metadata": {},
   "outputs": [
    {
     "data": {
      "text/plain": [
       "Index(['overall_rating', 'potential', 'value', 'wage', 'Crossing', 'Finishing',\n",
       "       'Heading_Accuracy', 'Short_Passing', 'Volleys', 'Dribbling', 'Curve',\n",
       "       'FK_Accuracy', 'Long_Passing', 'Ball_Control', 'Acceleration',\n",
       "       'Sprint_Speed', 'Agility', 'Reactions', 'Balance', 'Shot_Power',\n",
       "       'Jumping', 'Stamina', 'Strength', 'Long_Shots', 'Aggression',\n",
       "       'Interceptions', 'Positioning', 'Vision', 'Penalties', 'Composure',\n",
       "       'Defensive_Awareness', 'Standing_Tackle', 'Sliding_Tackle', 'GK_Diving',\n",
       "       'GK_Handling', 'GK_Kicking', 'GK_Positioning', 'GK_Reflexes'],\n",
       "      dtype='object')"
      ]
     },
     "execution_count": 4,
     "metadata": {},
     "output_type": "execute_result"
    }
   ],
   "source": [
    "data.columns[4:]"
   ]
  },
  {
   "cell_type": "code",
   "execution_count": 10,
   "metadata": {},
   "outputs": [],
   "source": [
    "y_index_list = data.columns[6:8]"
   ]
  },
  {
   "cell_type": "code",
   "execution_count": 11,
   "metadata": {},
   "outputs": [],
   "source": [
    "x_index_list = list(data.columns[4:6]) + list(data.columns[8:])"
   ]
  },
  {
   "cell_type": "code",
   "execution_count": 12,
   "metadata": {},
   "outputs": [],
   "source": [
    "with PdfPages(\"trypic/try_pictures.pdf\") as pp:\n",
    "    for x in range(len(x_index_list)):\n",
    "        for y in range(len(y_index_list)):\n",
    "            fig = plt.scatter(data[x_index_list[x]], data[y_index_list[y]])\n",
    "            pp.savefig(figure=fig)\n",
    "\n"
   ]
  },
  {
   "cell_type": "code",
   "execution_count": 14,
   "metadata": {},
   "outputs": [
    {
     "name": "stdout",
     "output_type": "stream",
     "text": [
      "0       76.0\n",
      "1       76.0\n",
      "2       85.0\n",
      "3       81.0\n",
      "4       82.0\n",
      "        ... \n",
      "2656    71.0\n",
      "2657    81.0\n",
      "2658    79.0\n",
      "2659    71.0\n",
      "2660    73.0\n",
      "Name: potential, Length: 2661, dtype: float64\n"
     ]
    }
   ],
   "source": [
    "print(data[x_index_list[1]])"
   ]
  }
 ],
 "metadata": {
  "kernelspec": {
   "display_name": "Python 3.10.4 64-bit",
   "language": "python",
   "name": "python3"
  },
  "language_info": {
   "codemirror_mode": {
    "name": "ipython",
    "version": 3
   },
   "file_extension": ".py",
   "mimetype": "text/x-python",
   "name": "python",
   "nbconvert_exporter": "python",
   "pygments_lexer": "ipython3",
   "version": "3.10.4"
  },
  "orig_nbformat": 4,
  "vscode": {
   "interpreter": {
    "hash": "916dbcbb3f70747c44a77c7bcd40155683ae19c65e1c03b4aa3499c5328201f1"
   }
  }
 },
 "nbformat": 4,
 "nbformat_minor": 2
}
